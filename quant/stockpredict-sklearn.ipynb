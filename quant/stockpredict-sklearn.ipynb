{
 "cells": [
  {
   "cell_type": "code",
   "execution_count": 29,
   "id": "aa2e51f9-0905-4366-8808-ec48edf34060",
   "metadata": {},
   "outputs": [],
   "source": [
    "import yfinance as yf\n",
    "import pandas as pd\n",
    "from sklearn.metrics import precision_score"
   ]
  },
  {
   "cell_type": "code",
   "execution_count": 2,
   "id": "a135ff7d-71ab-42e2-86bc-a13c2ca6c7b1",
   "metadata": {},
   "outputs": [],
   "source": [
    "sp500 = yf.Ticker(\"^GSPC\")\n",
    "sp500 = sp500.history(period=\"max\")"
   ]
  },
  {
   "cell_type": "code",
   "execution_count": 4,
   "id": "6b4ee717-366d-4f88-aa63-909152a0824f",
   "metadata": {},
   "outputs": [
    {
     "data": {
      "text/plain": [
       "<Axes: xlabel='Date'>"
      ]
     },
     "execution_count": 4,
     "metadata": {},
     "output_type": "execute_result"
    },
    {
     "data": {
      "image/png": "[encoded data removed]",
      "text/plain": [
       "<Figure size 640x480 with 1 Axes>"
      ]
     },
     "metadata": {},
     "output_type": "display_data"
    }
   ],
   "source": [
    "sp500.plot.line(y=\"Close\", use_index=True)"
   ]
  },
  {
   "cell_type": "code",
   "execution_count": 5,
   "id": "83dd8a46-c709-4f8e-ac2b-6e58f1aebafe",
   "metadata": {},
   "outputs": [],
   "source": [
    "# clear columns\n",
    "del sp500[\"Dividends\"]\n",
    "del sp500[\"Stock Splits\"]"
   ]
  },
  {
   "cell_type": "code",
   "execution_count": 7,
   "id": "800c6658-fed5-42c2-9618-5f042ed55cac",
   "metadata": {},
   "outputs": [],
   "source": [
    "# set up target\n",
    "sp500[\"Tomorrow\"] = sp500[\"Close\"].shift(-1)\n",
    "sp500[\"Target\"] = (sp500[\"Tomorrow\"] > sp500[\"Close\"]).astype(int) # is tomorrows price greater than todays?"
   ]
  },
  {
   "cell_type": "code",
   "execution_count": 11,
   "id": "d4ea507a-cba7-43d2-9e12-7d4d0bc98567",
   "metadata": {},
   "outputs": [],
   "source": [
    "# remove all data before 1990\n",
    "sp500 = sp500.loc['1990-01-01':].copy()"
   ]
  },
  {
   "cell_type": "code",
   "execution_count": 16,
   "id": "3bc8cde5-598a-4a8b-a1ea-e0f5fae7cc6c",
   "metadata": {},
   "outputs": [],
   "source": [
    "from sklearn.ensemble import RandomForestClassifier"
   ]
  },
  {
   "cell_type": "code",
   "execution_count": 65,
   "id": "b6643442-fd44-4f2e-b4db-3aaf50fde1f1",
   "metadata": {},
   "outputs": [],
   "source": [
    "model = RandomForestClassifier(\n",
    "    n_estimators = 200, # individual decision trees\n",
    "    min_samples_split=50, # prevent overfit - higher the worst for accuracy\n",
    "    random_state = 37\n",
    ")"
   ]
  },
  {
   "cell_type": "code",
   "execution_count": 34,
   "id": "13dc6a7f-e8a2-42ef-bdb1-2011d184abab",
   "metadata": {},
   "outputs": [
    {
     "data": {
      "text/plain": [
       "0.6153846153846154"
      ]
     },
     "execution_count": 34,
     "metadata": {},
     "output_type": "execute_result"
    }
   ],
   "source": [
    "preds = model.predict(test[predictors])\n",
    "preds = pd.Series(preds, index=test.index)\n",
    "precision_score(test[\"Target\"], preds)"
   ]
  },
  {
   "cell_type": "code",
   "execution_count": 25,
   "id": "cbc4651a-c8fd-4811-aed4-6d885677670f",
   "metadata": {},
   "outputs": [],
   "source": [
    "predictors = [\"Close\", \"Volume\", \"Open\", \"High\", \"Low\"]"
   ]
  },
  {
   "cell_type": "code",
   "execution_count": 66,
   "id": "87461d46-f291-460c-bc10-5beb9c9a8bfb",
   "metadata": {},
   "outputs": [],
   "source": [
    "# backtesting\n",
    "def predict(train, test, predictors, model):\n",
    "    model.fit(train[predictors], train[\"Target\"])\n",
    "    preds = model.predict_proba(test[predictors])[:,1]\n",
    "    preds[preds >= .6] = 1 # setting a higher threshold makes predictions more confident\n",
    "    preds[preds < .6] = 0\n",
    "    preds = pd.Series(preds, index=test.index, name=\"Predictions\")\n",
    "    combined = pd.concat([test[\"Target\"], preds], axis=1)\n",
    "    return combined"
   ]
  },
  {
   "cell_type": "code",
   "execution_count": 44,
   "id": "ad077423-15c1-42a0-90fd-967a0d6fdbda",
   "metadata": {},
   "outputs": [],
   "source": [
    "def backtest(data, model, predictors, start=2500, step=250):\n",
    "    all_predictions = []\n",
    "\n",
    "    for i in range(start, data.shape[0], step):\n",
    "        train = data.iloc[0:i].copy()\n",
    "        test = data.iloc[i:(i+step)].copy()\n",
    "        predictions = predict(train, test, predictors, model)\n",
    "        all_predictions.append(predictions)\n",
    "    return pd.concat(all_predictions)"
   ]
  },
  {
   "cell_type": "code",
   "execution_count": 67,
   "id": "794a9a15-c0d0-4b0e-b960-16899e6c1203",
   "metadata": {},
   "outputs": [],
   "source": [
    "predictions = backtest(sp500, model, new_predictors)"
   ]
  },
  {
   "cell_type": "code",
   "execution_count": 68,
   "id": "e6136927-cc94-4e9e-8adb-9349e4089757",
   "metadata": {},
   "outputs": [
    {
     "data": {
      "text/plain": [
       "Predictions\n",
       "0.0    4638\n",
       "1.0     823\n",
       "Name: count, dtype: int64"
      ]
     },
     "execution_count": 68,
     "metadata": {},
     "output_type": "execute_result"
    }
   ],
   "source": [
    "predictions[\"Predictions\"].value_counts()"
   ]
  },
  {
   "cell_type": "code",
   "execution_count": 69,
   "id": "590f0030-3e66-4bc2-8ca1-902bb723c566",
   "metadata": {},
   "outputs": [
    {
     "data": {
      "text/plain": [
       "0.5613608748481167"
      ]
     },
     "execution_count": 69,
     "metadata": {},
     "output_type": "execute_result"
    }
   ],
   "source": [
    "precision_score(predictions[\"Target\"], predictions[\"Predictions\"])"
   ]
  },
  {
   "cell_type": "code",
   "execution_count": 70,
   "id": "d987ed3f-cf7c-4329-ac12-011bac6a2019",
   "metadata": {
    "scrolled": true
   },
   "outputs": [
    {
     "data": {
      "text/plain": [
       "Target\n",
       "1    0.546237\n",
       "0    0.453763\n",
       "Name: count, dtype: float64"
      ]
     },
     "execution_count": 70,
     "metadata": {},
     "output_type": "execute_result"
    }
   ],
   "source": [
    "predictions[\"Target\"].value_counts() / predictions.shape[0]"
   ]
  },
  {
   "cell_type": "code",
   "execution_count": 57,
   "id": "955709ae-b628-4845-a889-26c0195907f1",
   "metadata": {},
   "outputs": [],
   "source": [
    "horizons = [2,5,60,250,1000]\n",
    "new_predictors = []"
   ]
  },
  {
   "cell_type": "code",
   "execution_count": 60,
   "id": "99d58e11-3eca-4286-b8b4-dcbad51d7530",
   "metadata": {},
   "outputs": [],
   "source": [
    "for h in horizons:\n",
    "    rolling_averages = sp500.rolling(h).mean()\n",
    "    sp500[f\"CloseRatio_{h}\"] = sp500[\"Close\"] / rolling_averages[\"Close\"]\n",
    "    sp500[f\"Trend_{h}\"] = sp500.shift(1).rolling(h).sum()[\"Target\"]\n",
    "\n",
    "    new_predictors += [f\"CloseRatio_{h}\", f\"Trend_{h}\"]"
   ]
  },
  {
   "cell_type": "code",
   "execution_count": 64,
   "id": "33037114-e862-44ef-a81f-e58f09b37f4e",
   "metadata": {},
   "outputs": [],
   "source": [
    "sp500 = sp500.dropna()"
   ]
  },
  {
   "cell_type": "code",
   "execution_count": null,
   "id": "ef4a8d9c-6b6b-44ca-8dc6-aa053286630f",
   "metadata": {},
   "outputs": [],
   "source": []
  }
 ],
 "metadata": {
  "kernelspec": {
   "display_name": "Python (AI-ENV)",
   "language": "python",
   "name": "ai-env"
  },
  "language_info": {
   "codemirror_mode": {
    "name": "ipython",
    "version": 3
   },
   "file_extension": ".py",
   "mimetype": "text/x-python",
   "name": "python",
   "nbconvert_exporter": "python",
   "pygments_lexer": "ipython3",
   "version": "3.11.11"
  }
 },
 "nbformat": 4,
 "nbformat_minor": 5
}
