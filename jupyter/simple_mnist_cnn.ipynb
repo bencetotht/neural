{
  "cells": [
    {
      "cell_type": "markdown",
      "metadata": {
        "id": "view-in-github",
        "colab_type": "text"
      },
      "source": [
        "<a href=\"https://colab.research.google.com/github/ForThisPlayer10/neural/blob/main/jupyter/simple_mnist_cnn.ipynb\" target=\"_parent\"><img src=\"https://colab.research.google.com/assets/colab-badge.svg\" alt=\"Open In Colab\"/></a>"
      ]
    },
    {
      "cell_type": "code",
      "execution_count": 59,
      "metadata": {
        "id": "hGMXMqBvJL2-"
      },
      "outputs": [],
      "source": [
        "import torch\n",
        "import torch.nn as nn\n",
        "import torch.nn.functional as F\n",
        "from torch.utils.data import DataLoader\n",
        "from torchvision import datasets, transforms\n",
        "from torchvision.utils import make_grid"
      ]
    },
    {
      "cell_type": "code",
      "source": [
        "import numpy as np\n",
        "import pandas as pd\n",
        "from sklearn.metrics import confusion_matrix\n",
        "import matplotlib.pyplot as plt\n",
        "%matplotlib inline"
      ],
      "metadata": {
        "id": "UiIHMlxKJ4o3"
      },
      "execution_count": 60,
      "outputs": []
    },
    {
      "cell_type": "markdown",
      "source": [
        "## Convert MNIST image files into 4D tensors (number of images, height, width, color channel)"
      ],
      "metadata": {
        "id": "cHV5yiflKdmN"
      }
    },
    {
      "cell_type": "code",
      "source": [
        "transform = transforms.ToTensor()"
      ],
      "metadata": {
        "id": "r5-TNV0SKQ3d"
      },
      "execution_count": 61,
      "outputs": []
    },
    {
      "cell_type": "code",
      "source": [
        "train_data = datasets.MNIST(root='./simple-mnist-cnn_data', train=True, download=True, transform=transform)\n",
        "test_data = datasets.MNIST(root='./simple-mnist-cnn_data', train=False, download=True, transform=transform)"
      ],
      "metadata": {
        "id": "sGnDJ19zKq9m"
      },
      "execution_count": 62,
      "outputs": []
    },
    {
      "cell_type": "markdown",
      "source": [
        "## Understanding how model works"
      ],
      "metadata": {
        "id": "SSKl0Wy2L8m1"
      }
    },
    {
      "cell_type": "code",
      "source": [
        "train_loader = DataLoader(train_data, batch_size=10, shuffle=True)\n",
        "test_loader = DataLoader(test_data, batch_size=10, shuffle=False)"
      ],
      "metadata": {
        "id": "powq3VUTLYKS"
      },
      "execution_count": 63,
      "outputs": []
    },
    {
      "cell_type": "code",
      "source": [
        "# input, output, kernel, stride\n",
        "conv1 = nn.Conv2d(in_channels=1, out_channels=6, kernel_size=6, stride=1)\n",
        "conv2 = nn.Conv2d(in_channels=6, out_channels=16, kernel_size=3, stride=1)"
      ],
      "metadata": {
        "id": "ep4MIBWjMWYC"
      },
      "execution_count": 64,
      "outputs": []
    },
    {
      "cell_type": "code",
      "source": [
        "for i, (X_Train, y_train) in enumerate (train_data):\n",
        "  break"
      ],
      "metadata": {
        "id": "kOEOzkcANG6R"
      },
      "execution_count": 65,
      "outputs": []
    },
    {
      "cell_type": "code",
      "source": [
        "x = X_Train.view(1,1,28,28)"
      ],
      "metadata": {
        "id": "q8rl8tvQNSOd"
      },
      "execution_count": 66,
      "outputs": []
    },
    {
      "cell_type": "code",
      "source": [
        "# first convolution\n",
        "x = F.relu(conv1(x))\n",
        "\n",
        "# 1 single image, 6 filters, 26x26 image\n",
        "x.shape"
      ],
      "metadata": {
        "colab": {
          "base_uri": "https://localhost:8080/"
        },
        "collapsed": true,
        "id": "2c71Hpf5Nd9a",
        "outputId": "f752f1f2-768f-4ea4-9ba5-a1077a3a4b64"
      },
      "execution_count": 67,
      "outputs": [
        {
          "output_type": "execute_result",
          "data": {
            "text/plain": [
              "torch.Size([1, 6, 23, 23])"
            ]
          },
          "metadata": {},
          "execution_count": 67
        }
      ]
    },
    {
      "cell_type": "code",
      "source": [
        "# first pooling layer\n",
        "x = F.max_pool2d(x, 2,2) # kernel 2, stride 2\n",
        "# 26 / 2 = 13\n",
        "x.shape"
      ],
      "metadata": {
        "colab": {
          "base_uri": "https://localhost:8080/"
        },
        "id": "ybN394iqN0fQ",
        "outputId": "daba5135-c9fa-4bab-99bf-71e2798e8a52"
      },
      "execution_count": 68,
      "outputs": [
        {
          "output_type": "execute_result",
          "data": {
            "text/plain": [
              "torch.Size([1, 6, 11, 11])"
            ]
          },
          "metadata": {},
          "execution_count": 68
        }
      ]
    },
    {
      "cell_type": "code",
      "source": [
        "# second convolution\n",
        "x = F.relu(conv2(x))\n",
        "x.shape"
      ],
      "metadata": {
        "colab": {
          "base_uri": "https://localhost:8080/"
        },
        "id": "UzXEshKTPDXE",
        "outputId": "ee0c29e0-012b-41ac-cd56-dd1f4569f32b"
      },
      "execution_count": 69,
      "outputs": [
        {
          "output_type": "execute_result",
          "data": {
            "text/plain": [
              "torch.Size([1, 16, 9, 9])"
            ]
          },
          "metadata": {},
          "execution_count": 69
        }
      ]
    },
    {
      "cell_type": "code",
      "source": [
        "# second pooling\n",
        "x = F.max_pool2d(x, 2, 2)\n",
        "# 11 / 2 = 5.5\n",
        "x.shape"
      ],
      "metadata": {
        "colab": {
          "base_uri": "https://localhost:8080/"
        },
        "id": "9n_9kRa-PlBH",
        "outputId": "8528bf29-f589-4edb-86c1-fb3ac0d31a1f"
      },
      "execution_count": 70,
      "outputs": [
        {
          "output_type": "execute_result",
          "data": {
            "text/plain": [
              "torch.Size([1, 16, 4, 4])"
            ]
          },
          "metadata": {},
          "execution_count": 70
        }
      ]
    },
    {
      "cell_type": "markdown",
      "source": [
        "## Buildig out the model"
      ],
      "metadata": {
        "id": "zM1LQ5UPQcts"
      }
    },
    {
      "cell_type": "code",
      "source": [
        "class ConvolutionalNetwork(nn.Module):\n",
        "  def __init__(self):\n",
        "    super().__init__()\n",
        "    self.conv1 = nn.Conv2d(1, 6, 3, 1)\n",
        "    self.conv2 = nn.Conv2d(6, 16, 3, 1)\n",
        "    self.fc1 = nn.Linear(5*5*16, 120) # 5x5 image size, 16 filters\n",
        "    self.fc2 = nn.Linear(120, 84)\n",
        "    self.fc3 = nn.Linear(84, 10) # 10 = number of classes in this dataset\n",
        "\n",
        "  def forward(self, x):\n",
        "    x = F.relu(self.conv1(x))\n",
        "    x = F.max_pool2d(x, 2, 2)\n",
        "    x = F.relu(self.conv2(x))\n",
        "    x = F.max_pool2d(x, 2, 2)\n",
        "\n",
        "    # Flattening data out\n",
        "    x = x.view(-1, 16*5*5)\n",
        "\n",
        "    # Fully connected layers\n",
        "    x = F.relu(self.fc1(x))\n",
        "    x = F.relu(self.fc2(x))\n",
        "    x = self.fc3(x)\n",
        "\n",
        "    return F.log_softmax(x, dim=1)"
      ],
      "metadata": {
        "id": "UqU93JzlPzEM"
      },
      "execution_count": 71,
      "outputs": []
    },
    {
      "cell_type": "code",
      "source": [
        "torch.manual_seed(41)\n",
        "model = ConvolutionalNetwork()"
      ],
      "metadata": {
        "id": "p-EyRwLaSo_B"
      },
      "execution_count": 72,
      "outputs": []
    },
    {
      "cell_type": "code",
      "source": [
        "criterion = nn.CrossEntropyLoss()\n",
        "optimizer = torch.optim.Adam(model.parameters(), lr=0.001) # smaller lr -> longer train"
      ],
      "metadata": {
        "id": "Lh40ccBOSz7o"
      },
      "execution_count": 73,
      "outputs": []
    },
    {
      "cell_type": "markdown",
      "source": [
        "## Training and testing model"
      ],
      "metadata": {
        "id": "ilS19OhtTbaZ"
      }
    },
    {
      "cell_type": "code",
      "source": [
        "import time\n",
        "start_time = time.time()"
      ],
      "metadata": {
        "id": "J8GjlNapS1ER"
      },
      "execution_count": 74,
      "outputs": []
    },
    {
      "cell_type": "code",
      "source": [
        "# Tracking variables\n",
        "epochs = 5\n",
        "train_losses = []\n",
        "test_losses = []\n",
        "train_correct = []\n",
        "test_correct = []"
      ],
      "metadata": {
        "id": "fgBsKQVlTrwD"
      },
      "execution_count": 75,
      "outputs": []
    },
    {
      "cell_type": "code",
      "source": [
        "# Training\n",
        "for i in range(epochs):\n",
        "  train_corr = 0\n",
        "  test_corr = 0\n",
        "\n",
        "  for b, (X_train, y_train) in enumerate(train_loader):\n",
        "    # prediction\n",
        "    b += 1\n",
        "    y_pred = model(X_train)\n",
        "    loss = criterion(y_pred, y_train)\n",
        "\n",
        "    # verify predictions\n",
        "    predicted = torch.max(y_pred.data, 1)[1]\n",
        "    batch_corr = (predicted == y_train).sum()\n",
        "    train_corr += batch_corr\n",
        "\n",
        "    # update parameters\n",
        "    optimizer.zero_grad()\n",
        "    loss.backward()\n",
        "    optimizer.step()\n",
        "\n",
        "    if b%600 == 0:\n",
        "      print(f'Epoch: {i}, batch: {b}, loss: {loss.item()}')\n",
        "\n",
        "  train_losses.append(loss)\n",
        "  train_correct.append(train_corr)\n",
        "\n",
        "  # Testing\n",
        "  with torch.no_grad():\n",
        "    for b, (X_test, y_test) in enumerate(test_loader):\n",
        "      y_val = model(X_test)\n",
        "      predicted = torch.max(y_val.data, 1)[1]\n",
        "      test_corr += (predicted == y_test).sum()\n",
        "\n",
        "  loss = criterion(y_val, y_test)\n",
        "  test_losses.append(loss)\n",
        "  test_correct.append(test_corr)\n"
      ],
      "metadata": {
        "colab": {
          "base_uri": "https://localhost:8080/"
        },
        "id": "HeBYChoiT2A2",
        "outputId": "bb7e4244-e009-4ec0-9bda-3befcdad89f2"
      },
      "execution_count": 76,
      "outputs": [
        {
          "output_type": "stream",
          "name": "stdout",
          "text": [
            "Epoch: 0, batch: 600, loss: 0.1623610556125641\n",
            "Epoch: 0, batch: 1200, loss: 0.1502392590045929\n",
            "Epoch: 0, batch: 1800, loss: 0.4744560718536377\n",
            "Epoch: 0, batch: 2400, loss: 0.14238706231117249\n",
            "Epoch: 0, batch: 3000, loss: 0.007758188061416149\n",
            "Epoch: 0, batch: 3600, loss: 0.3836284875869751\n",
            "Epoch: 0, batch: 4200, loss: 0.0038223876617848873\n",
            "Epoch: 0, batch: 4800, loss: 0.0021286322735249996\n",
            "Epoch: 0, batch: 5400, loss: 0.0569545142352581\n",
            "Epoch: 0, batch: 6000, loss: 0.00038789428072050214\n",
            "Epoch: 1, batch: 600, loss: 0.005851339548826218\n",
            "Epoch: 1, batch: 1200, loss: 0.3855525553226471\n",
            "Epoch: 1, batch: 1800, loss: 0.004819948226213455\n",
            "Epoch: 1, batch: 2400, loss: 0.003216963727027178\n",
            "Epoch: 1, batch: 3000, loss: 0.0332382395863533\n",
            "Epoch: 1, batch: 3600, loss: 0.5372857451438904\n",
            "Epoch: 1, batch: 4200, loss: 0.04561494290828705\n",
            "Epoch: 1, batch: 4800, loss: 0.0007510822033509612\n",
            "Epoch: 1, batch: 5400, loss: 0.0001173773780465126\n",
            "Epoch: 1, batch: 6000, loss: 0.14201366901397705\n",
            "Epoch: 2, batch: 600, loss: 0.023733172565698624\n",
            "Epoch: 2, batch: 1200, loss: 0.003455493599176407\n",
            "Epoch: 2, batch: 1800, loss: 0.0008372392621822655\n",
            "Epoch: 2, batch: 2400, loss: 0.010705141350626945\n",
            "Epoch: 2, batch: 3000, loss: 0.008078320883214474\n",
            "Epoch: 2, batch: 3600, loss: 0.0011862406972795725\n",
            "Epoch: 2, batch: 4200, loss: 0.038080841302871704\n",
            "Epoch: 2, batch: 4800, loss: 0.0016068397089838982\n",
            "Epoch: 2, batch: 5400, loss: 0.138673797249794\n",
            "Epoch: 2, batch: 6000, loss: 0.2449204921722412\n",
            "Epoch: 3, batch: 600, loss: 0.007151054684072733\n",
            "Epoch: 3, batch: 1200, loss: 0.011097034439444542\n",
            "Epoch: 3, batch: 1800, loss: 0.0017998721450567245\n",
            "Epoch: 3, batch: 2400, loss: 0.0001049584461725317\n",
            "Epoch: 3, batch: 3000, loss: 0.0031431831885129213\n",
            "Epoch: 3, batch: 3600, loss: 0.003668801160529256\n",
            "Epoch: 3, batch: 4200, loss: 0.0037249946035444736\n",
            "Epoch: 3, batch: 4800, loss: 0.00015864608576521277\n",
            "Epoch: 3, batch: 5400, loss: 0.0796482041478157\n",
            "Epoch: 3, batch: 6000, loss: 0.0808732658624649\n",
            "Epoch: 4, batch: 600, loss: 0.014099588617682457\n",
            "Epoch: 4, batch: 1200, loss: 0.0382874570786953\n",
            "Epoch: 4, batch: 1800, loss: 0.16302265226840973\n",
            "Epoch: 4, batch: 2400, loss: 0.02186887338757515\n",
            "Epoch: 4, batch: 3000, loss: 0.0024396399967372417\n",
            "Epoch: 4, batch: 3600, loss: 0.0013979513896629214\n",
            "Epoch: 4, batch: 4200, loss: 0.000989563181065023\n",
            "Epoch: 4, batch: 4800, loss: 0.010317974723875523\n",
            "Epoch: 4, batch: 5400, loss: 0.16506639122962952\n",
            "Epoch: 4, batch: 6000, loss: 0.0027098222635686398\n"
          ]
        }
      ]
    },
    {
      "cell_type": "code",
      "source": [
        "current_time = time.time()\n",
        "print(f'Total train time: {(current_time - start_time) / 60}')"
      ],
      "metadata": {
        "colab": {
          "base_uri": "https://localhost:8080/"
        },
        "id": "o26MEsg7TgDU",
        "outputId": "3dec4c6f-0707-4a51-b33e-643a53af4f0f"
      },
      "execution_count": 77,
      "outputs": [
        {
          "output_type": "stream",
          "name": "stdout",
          "text": [
            "Total train time: 4.004910739262899\n"
          ]
        }
      ]
    },
    {
      "cell_type": "markdown",
      "source": [
        "## Graphing"
      ],
      "metadata": {
        "id": "w-nMPAXA90oO"
      }
    },
    {
      "cell_type": "code",
      "source": [
        "# Graph loss\n",
        "train_losses = [ti.item() for ti in train_losses]\n",
        "plt.plot(train_losses, label=\"Training loss\")\n",
        "plt.plot(test_losses, label=\"Test loss\")\n",
        "plt.title(\"Loss at Epoch\")\n",
        "plt.legend()"
      ],
      "metadata": {
        "colab": {
          "base_uri": "https://localhost:8080/",
          "height": 469
        },
        "id": "0UpeBRnP92eN",
        "outputId": "dc767016-13e5-4890-c0aa-e161a714ebbf"
      },
      "execution_count": 78,
      "outputs": [
        {
          "output_type": "execute_result",
          "data": {
            "text/plain": [
              "<matplotlib.legend.Legend at 0x7e4fabfa7940>"
            ]
          },
          "metadata": {},
          "execution_count": 78
        },
        {
          "output_type": "display_data",
          "data": {
            "text/plain": [
              "<Figure size 640x480 with 1 Axes>"
            ],
            "image/png": "[encoded data removed]"
          },
          "metadata": {}
        }
      ]
    },
    {
      "cell_type": "code",
      "source": [
        "# Graph accuracy\n",
        "plt.plot([t/600 for t in train_correct], label=\"Training accuracy\")\n",
        "plt.plot([t/100 for t in test_correct], label=\"Test accuracy\")\n",
        "plt.title(\"Accuracy at end of each Epoch\")\n",
        "plt.legend()"
      ],
      "metadata": {
        "colab": {
          "base_uri": "https://localhost:8080/",
          "height": 469
        },
        "id": "48UfenBc-TJs",
        "outputId": "a15cc536-4540-4b5c-b90d-192909db058d"
      },
      "execution_count": 81,
      "outputs": [
        {
          "output_type": "execute_result",
          "data": {
            "text/plain": [
              "<matplotlib.legend.Legend at 0x7e4fabfc4e80>"
            ]
          },
          "metadata": {},
          "execution_count": 81
        },
        {
          "output_type": "display_data",
          "data": {
            "text/plain": [
              "<Figure size 640x480 with 1 Axes>"
            ],
            "image/png": "[encoded data removed]"
          },
          "metadata": {}
        }
      ]
    },
    {
      "cell_type": "code",
      "source": [
        "# Testing overall correctness\n",
        "test_load_everything = DataLoader(test_data, batch_size=10000, shuffle=False)\n",
        "\n",
        "with torch.no_grad():\n",
        "  correct = 0\n",
        "  for X_test, y_test in test_load_everything:\n",
        "    y_val = model(X_test)\n",
        "    predicted = torch.max(y_val, 1)[1]\n",
        "    correct += (predicted == y_test).sum()"
      ],
      "metadata": {
        "id": "_zMgcBjJ-wdP"
      },
      "execution_count": 84,
      "outputs": []
    },
    {
      "cell_type": "code",
      "source": [
        "correct.item() / len(test_data)"
      ],
      "metadata": {
        "colab": {
          "base_uri": "https://localhost:8080/"
        },
        "id": "ViTRi-JJ_WMe",
        "outputId": "d69d3bb0-af53-4048-fb03-fc636c0308b4"
      },
      "execution_count": 86,
      "outputs": [
        {
          "output_type": "execute_result",
          "data": {
            "text/plain": [
              "0.9857"
            ]
          },
          "metadata": {},
          "execution_count": 86
        }
      ]
    },
    {
      "cell_type": "markdown",
      "source": [
        "## Feeding new image through network"
      ],
      "metadata": {
        "id": "u7t0b-54AFzq"
      }
    },
    {
      "cell_type": "code",
      "source": [
        "plt.imshow(test_data[3123][0].reshape(28,28))"
      ],
      "metadata": {
        "colab": {
          "base_uri": "https://localhost:8080/",
          "height": 447
        },
        "id": "gxaNzF9LAKHV",
        "outputId": "d9d82c4a-400e-4ff8-f1bb-6b22866031fa"
      },
      "execution_count": 99,
      "outputs": [
        {
          "output_type": "execute_result",
          "data": {
            "text/plain": [
              "<matplotlib.image.AxesImage at 0x7e4fa9478970>"
            ]
          },
          "metadata": {},
          "execution_count": 99
        },
        {
          "output_type": "display_data",
          "data": {
            "text/plain": [
              "<Figure size 640x480 with 1 Axes>"
            ],
            "image/png": "[encoded data removed]"
          },
          "metadata": {}
        }
      ]
    },
    {
      "cell_type": "code",
      "source": [
        "model.eval()\n",
        "with torch.no_grad():\n",
        "  prediction = model(test_data[3123][0].view(1,1,28,28)) # batch size 1, 1 color channel, 28x28 image\n",
        "prediction.argmax()"
      ],
      "metadata": {
        "colab": {
          "base_uri": "https://localhost:8080/"
        },
        "id": "D9ByLzTNAM3Z",
        "outputId": "3c2d17c9-5533-4375-d75c-2053fd2f7341"
      },
      "execution_count": 98,
      "outputs": [
        {
          "output_type": "execute_result",
          "data": {
            "text/plain": [
              "tensor(4)"
            ]
          },
          "metadata": {},
          "execution_count": 98
        }
      ]
    },
    {
      "cell_type": "markdown",
      "source": [
        "## Saving model"
      ],
      "metadata": {
        "id": "7FroflSrBLbE"
      }
    },
    {
      "cell_type": "code",
      "source": [
        "torch.save(model.state_dict(), 'simple-mnist-cnn.pt')"
      ],
      "metadata": {
        "id": "8HJr7TTGA2US"
      },
      "execution_count": 100,
      "outputs": []
    },
    {
      "cell_type": "code",
      "source": [],
      "metadata": {
        "id": "1__6mvHbBUku"
      },
      "execution_count": null,
      "outputs": []
    }
  ],
  "metadata": {
    "colab": {
      "provenance": [],
      "include_colab_link": true
    },
    "kernelspec": {
      "display_name": "Python 3",
      "name": "python3"
    },
    "language_info": {
      "name": "python"
    }
  },
  "nbformat": 4,
  "nbformat_minor": 0
}